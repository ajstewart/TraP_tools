{
 "cells": [
  {
   "cell_type": "code",
   "execution_count": null,
   "metadata": {},
   "outputs": [],
   "source": [
    "import pandas\n",
    "from astropy import units as u\n",
    "from astropy.coordinates import SkyCoord\n"
   ]
  },
  {
   "cell_type": "markdown",
   "metadata": {},
   "source": [
    "### Load two catalogues. "
   ]
  },
  {
   "cell_type": "code",
   "execution_count": null,
   "metadata": {},
   "outputs": [],
   "source": [
    "aart = pandas.read_csv(\"AARTFAAC_catalogue.csv\")\n",
    "green = pandas.read_csv(\"green_2014.csv\")"
   ]
  },
  {
   "cell_type": "markdown",
   "metadata": {},
   "source": [
    "#### Generate an array of indices "
   ]
  },
  {
   "cell_type": "code",
   "execution_count": null,
   "metadata": {},
   "outputs": [],
   "source": [
    "aart_coord = SkyCoord(ra=(aart.ra*u.degree).values,\n",
    "                      dec=(aart.decl*u.degree).values)\n",
    "\n",
    "green_coord = SkyCoord(ra=(green._RAJ2000*u.degree).values,\n",
    "                       dec=(green._DEJ2000*u.degree).values)\n",
    "\n",
    "idx, d2d, d3d = aart_coord.match_to_catalog_sky(green_coord)"
   ]
  },
  {
   "cell_type": "markdown",
   "metadata": {},
   "source": [
    "`idx` is an array of indices for the `green` Dataframe, such that `green.iloc[idx[i]]` is the _nearest_ source to `aart.iloc[i].`  `len(idx) = len(aart)`\n",
    "\n",
    "`d2d` is the pointwise 2D angular distances. `len(d2d) = len(aart)`\n",
    "\n",
    "`d3d` is the 3D distance, usefull if distance to each source is known, otherwise they're assumed to be on a unit sphere. To add physical distances to the catalogued soueces see http://docs.astropy.org/en/stable/coordinates/matchsep.html. `len(d3d) = len(aart)`"
   ]
  },
  {
   "cell_type": "code",
   "execution_count": null,
   "metadata": {},
   "outputs": [],
   "source": [
    "radius = 1."
   ]
  },
  {
   "cell_type": "markdown",
   "metadata": {},
   "source": [
    "\n",
    "#### Elements in the AARTFAAC catalogue which which have a match in Green, within 1 degree. "
   ]
  },
  {
   "cell_type": "code",
   "execution_count": null,
   "metadata": {},
   "outputs": [],
   "source": [
    "aart[d2d.deg < radius]"
   ]
  },
  {
   "cell_type": "markdown",
   "metadata": {},
   "source": [
    "#### Elements in the Green catalogue which have a match in AARTFAAC, within 1 degree. "
   ]
  },
  {
   "cell_type": "code",
   "execution_count": null,
   "metadata": {},
   "outputs": [],
   "source": [
    "green.iloc[idx[d2d.deg < radius]]"
   ]
  },
  {
   "cell_type": "markdown",
   "metadata": {},
   "source": [
    "The two DataFrames above are ordered according to the elements which match. They have the same number of rows, and the source described by row 0 of `aart[d2d.deg < radius]`, corresponds to the source described by row 0 of `green.iloc[idx[d2d.deg < radius]]`. "
   ]
  }
 ],
 "metadata": {
  "kernelspec": {
   "display_name": "Python 2",
   "language": "python",
   "name": "python2"
  },
  "language_info": {
   "codemirror_mode": {
    "name": "ipython",
    "version": 2
   },
   "file_extension": ".py",
   "mimetype": "text/x-python",
   "name": "python",
   "nbconvert_exporter": "python",
   "pygments_lexer": "ipython2",
   "version": "2.7.12"
  }
 },
 "nbformat": 4,
 "nbformat_minor": 2
}
